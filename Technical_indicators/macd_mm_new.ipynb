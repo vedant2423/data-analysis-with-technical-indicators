{
 "cells": [
  {
   "cell_type": "code",
   "execution_count": 1,
   "metadata": {},
   "outputs": [],
   "source": [
    "import pandas as pd\n",
    "import numpy as np\n",
    "import sys\n",
    "np.set_printoptions(threshold=sys.maxsize)"
   ]
  },
  {
   "cell_type": "code",
   "execution_count": 2,
   "metadata": {},
   "outputs": [
    {
     "data": {
      "text/html": [
       "<div>\n",
       "<style scoped>\n",
       "    .dataframe tbody tr th:only-of-type {\n",
       "        vertical-align: middle;\n",
       "    }\n",
       "\n",
       "    .dataframe tbody tr th {\n",
       "        vertical-align: top;\n",
       "    }\n",
       "\n",
       "    .dataframe thead th {\n",
       "        text-align: right;\n",
       "    }\n",
       "</style>\n",
       "<table border=\"1\" class=\"dataframe\">\n",
       "  <thead>\n",
       "    <tr style=\"text-align: right;\">\n",
       "      <th></th>\n",
       "      <th>Date</th>\n",
       "      <th>M&amp;M.NS_open</th>\n",
       "      <th>M&amp;M.NS_high</th>\n",
       "      <th>M&amp;M.NS_low</th>\n",
       "      <th>M&amp;M.NS_close</th>\n",
       "    </tr>\n",
       "  </thead>\n",
       "  <tbody>\n",
       "    <tr>\n",
       "      <th>0</th>\n",
       "      <td>2011-01-03</td>\n",
       "      <td>357.862466</td>\n",
       "      <td>360.991939</td>\n",
       "      <td>353.111985</td>\n",
       "      <td>354.620422</td>\n",
       "    </tr>\n",
       "    <tr>\n",
       "      <th>1</th>\n",
       "      <td>2011-01-04</td>\n",
       "      <td>354.417744</td>\n",
       "      <td>356.624142</td>\n",
       "      <td>349.059393</td>\n",
       "      <td>351.783600</td>\n",
       "    </tr>\n",
       "    <tr>\n",
       "      <th>2</th>\n",
       "      <td>2011-01-05</td>\n",
       "      <td>351.783627</td>\n",
       "      <td>355.273321</td>\n",
       "      <td>344.556590</td>\n",
       "      <td>347.190735</td>\n",
       "    </tr>\n",
       "    <tr>\n",
       "      <th>3</th>\n",
       "      <td>2011-01-06</td>\n",
       "      <td>349.869920</td>\n",
       "      <td>350.320203</td>\n",
       "      <td>341.314542</td>\n",
       "      <td>347.280792</td>\n",
       "    </tr>\n",
       "    <tr>\n",
       "      <th>4</th>\n",
       "      <td>2011-01-07</td>\n",
       "      <td>344.106288</td>\n",
       "      <td>344.871775</td>\n",
       "      <td>329.629678</td>\n",
       "      <td>333.344513</td>\n",
       "    </tr>\n",
       "    <tr>\n",
       "      <th>...</th>\n",
       "      <td>...</td>\n",
       "      <td>...</td>\n",
       "      <td>...</td>\n",
       "      <td>...</td>\n",
       "      <td>...</td>\n",
       "    </tr>\n",
       "    <tr>\n",
       "      <th>3199</th>\n",
       "      <td>2023-12-22</td>\n",
       "      <td>1630.000000</td>\n",
       "      <td>1652.000000</td>\n",
       "      <td>1622.750000</td>\n",
       "      <td>1634.250000</td>\n",
       "    </tr>\n",
       "    <tr>\n",
       "      <th>3200</th>\n",
       "      <td>2023-12-26</td>\n",
       "      <td>1640.900024</td>\n",
       "      <td>1669.000000</td>\n",
       "      <td>1634.500000</td>\n",
       "      <td>1662.250000</td>\n",
       "    </tr>\n",
       "    <tr>\n",
       "      <th>3201</th>\n",
       "      <td>2023-12-27</td>\n",
       "      <td>1670.000000</td>\n",
       "      <td>1691.800049</td>\n",
       "      <td>1660.250000</td>\n",
       "      <td>1687.949951</td>\n",
       "    </tr>\n",
       "    <tr>\n",
       "      <th>3202</th>\n",
       "      <td>2023-12-28</td>\n",
       "      <td>1688.949951</td>\n",
       "      <td>1739.949951</td>\n",
       "      <td>1688.400024</td>\n",
       "      <td>1734.449951</td>\n",
       "    </tr>\n",
       "    <tr>\n",
       "      <th>3203</th>\n",
       "      <td>2023-12-29</td>\n",
       "      <td>1730.000000</td>\n",
       "      <td>1758.000000</td>\n",
       "      <td>1715.000000</td>\n",
       "      <td>1729.400024</td>\n",
       "    </tr>\n",
       "  </tbody>\n",
       "</table>\n",
       "<p>3204 rows × 5 columns</p>\n",
       "</div>"
      ],
      "text/plain": [
       "            Date  M&M.NS_open  M&M.NS_high   M&M.NS_low  M&M.NS_close\n",
       "0     2011-01-03   357.862466   360.991939   353.111985    354.620422\n",
       "1     2011-01-04   354.417744   356.624142   349.059393    351.783600\n",
       "2     2011-01-05   351.783627   355.273321   344.556590    347.190735\n",
       "3     2011-01-06   349.869920   350.320203   341.314542    347.280792\n",
       "4     2011-01-07   344.106288   344.871775   329.629678    333.344513\n",
       "...          ...          ...          ...          ...           ...\n",
       "3199  2023-12-22  1630.000000  1652.000000  1622.750000   1634.250000\n",
       "3200  2023-12-26  1640.900024  1669.000000  1634.500000   1662.250000\n",
       "3201  2023-12-27  1670.000000  1691.800049  1660.250000   1687.949951\n",
       "3202  2023-12-28  1688.949951  1739.949951  1688.400024   1734.449951\n",
       "3203  2023-12-29  1730.000000  1758.000000  1715.000000   1729.400024\n",
       "\n",
       "[3204 rows x 5 columns]"
      ]
     },
     "execution_count": 2,
     "metadata": {},
     "output_type": "execute_result"
    }
   ],
   "source": [
    "data=pd.read_csv('/Users/vedantgupta/Documents/summer project/data-analysis-with-technical-indicators-2/nifty_sensex_close_data/data/M&M.NS_2011_to_2023.csv')\n",
    "data"
   ]
  },
  {
   "cell_type": "code",
   "execution_count": 3,
   "metadata": {},
   "outputs": [],
   "source": [
    "df=data[['Date','M&M.NS_close']] "
   ]
  },
  {
   "cell_type": "code",
   "execution_count": 4,
   "metadata": {},
   "outputs": [
    {
     "data": {
      "text/plain": [
       "Date             object\n",
       "M&M.NS_close    float64\n",
       "dtype: object"
      ]
     },
     "execution_count": 4,
     "metadata": {},
     "output_type": "execute_result"
    }
   ],
   "source": [
    "df.dtypes"
   ]
  },
  {
   "cell_type": "code",
   "execution_count": 5,
   "metadata": {},
   "outputs": [],
   "source": [
    "#parameters\n",
    "n = 12\n",
    "m = 26\n",
    "t = 9"
   ]
  },
  {
   "cell_type": "code",
   "execution_count": 6,
   "metadata": {},
   "outputs": [
    {
     "name": "stderr",
     "output_type": "stream",
     "text": [
      "/var/folders/90/5g2l2f2j191dmr85qjr8jrn40000gn/T/ipykernel_91031/1350891437.py:1: SettingWithCopyWarning: \n",
      "A value is trying to be set on a copy of a slice from a DataFrame.\n",
      "Try using .loc[row_indexer,col_indexer] = value instead\n",
      "\n",
      "See the caveats in the documentation: https://pandas.pydata.org/pandas-docs/stable/user_guide/indexing.html#returning-a-view-versus-a-copy\n",
      "  df.loc[:,'EMAn'] = df['M&M.NS_close'].ewm(span=n, adjust=False).mean()\n",
      "/var/folders/90/5g2l2f2j191dmr85qjr8jrn40000gn/T/ipykernel_91031/1350891437.py:3: SettingWithCopyWarning: \n",
      "A value is trying to be set on a copy of a slice from a DataFrame.\n",
      "Try using .loc[row_indexer,col_indexer] = value instead\n",
      "\n",
      "See the caveats in the documentation: https://pandas.pydata.org/pandas-docs/stable/user_guide/indexing.html#returning-a-view-versus-a-copy\n",
      "  df.loc[:,'EMAm'] = df['M&M.NS_close'].ewm(span=m, adjust=False).mean()\n"
     ]
    }
   ],
   "source": [
    "df.loc[:,'EMAn'] = df['M&M.NS_close'].ewm(span=n, adjust=False).mean()\n",
    "\n",
    "df.loc[:,'EMAm'] = df['M&M.NS_close'].ewm(span=m, adjust=False).mean()\n"
   ]
  },
  {
   "cell_type": "code",
   "execution_count": 7,
   "metadata": {},
   "outputs": [],
   "source": [
    "for i in range(n):\n",
    "    df.loc[i,'EMAn'] = None\n",
    "for i in range(m):\n",
    "    df.loc[i,'EMAm'] = None\n",
    "    "
   ]
  },
  {
   "cell_type": "code",
   "execution_count": 8,
   "metadata": {},
   "outputs": [
    {
     "data": {
      "text/html": [
       "<div>\n",
       "<style scoped>\n",
       "    .dataframe tbody tr th:only-of-type {\n",
       "        vertical-align: middle;\n",
       "    }\n",
       "\n",
       "    .dataframe tbody tr th {\n",
       "        vertical-align: top;\n",
       "    }\n",
       "\n",
       "    .dataframe thead th {\n",
       "        text-align: right;\n",
       "    }\n",
       "</style>\n",
       "<table border=\"1\" class=\"dataframe\">\n",
       "  <thead>\n",
       "    <tr style=\"text-align: right;\">\n",
       "      <th></th>\n",
       "      <th>Date</th>\n",
       "      <th>M&amp;M.NS_close</th>\n",
       "      <th>EMAn</th>\n",
       "      <th>EMAm</th>\n",
       "      <th>MACD</th>\n",
       "      <th>Signal Line</th>\n",
       "    </tr>\n",
       "  </thead>\n",
       "  <tbody>\n",
       "    <tr>\n",
       "      <th>0</th>\n",
       "      <td>2011-01-03</td>\n",
       "      <td>354.620422</td>\n",
       "      <td>NaN</td>\n",
       "      <td>NaN</td>\n",
       "      <td>NaN</td>\n",
       "      <td>NaN</td>\n",
       "    </tr>\n",
       "    <tr>\n",
       "      <th>1</th>\n",
       "      <td>2011-01-04</td>\n",
       "      <td>351.783600</td>\n",
       "      <td>NaN</td>\n",
       "      <td>NaN</td>\n",
       "      <td>NaN</td>\n",
       "      <td>NaN</td>\n",
       "    </tr>\n",
       "    <tr>\n",
       "      <th>2</th>\n",
       "      <td>2011-01-05</td>\n",
       "      <td>347.190735</td>\n",
       "      <td>NaN</td>\n",
       "      <td>NaN</td>\n",
       "      <td>NaN</td>\n",
       "      <td>NaN</td>\n",
       "    </tr>\n",
       "    <tr>\n",
       "      <th>3</th>\n",
       "      <td>2011-01-06</td>\n",
       "      <td>347.280792</td>\n",
       "      <td>NaN</td>\n",
       "      <td>NaN</td>\n",
       "      <td>NaN</td>\n",
       "      <td>NaN</td>\n",
       "    </tr>\n",
       "    <tr>\n",
       "      <th>4</th>\n",
       "      <td>2011-01-07</td>\n",
       "      <td>333.344513</td>\n",
       "      <td>NaN</td>\n",
       "      <td>NaN</td>\n",
       "      <td>NaN</td>\n",
       "      <td>NaN</td>\n",
       "    </tr>\n",
       "    <tr>\n",
       "      <th>...</th>\n",
       "      <td>...</td>\n",
       "      <td>...</td>\n",
       "      <td>...</td>\n",
       "      <td>...</td>\n",
       "      <td>...</td>\n",
       "      <td>...</td>\n",
       "    </tr>\n",
       "    <tr>\n",
       "      <th>3199</th>\n",
       "      <td>2023-12-22</td>\n",
       "      <td>1634.250000</td>\n",
       "      <td>1660.519209</td>\n",
       "      <td>1636.174464</td>\n",
       "      <td>24.344746</td>\n",
       "      <td>32.384323</td>\n",
       "    </tr>\n",
       "    <tr>\n",
       "      <th>3200</th>\n",
       "      <td>2023-12-26</td>\n",
       "      <td>1662.250000</td>\n",
       "      <td>1660.785485</td>\n",
       "      <td>1638.105985</td>\n",
       "      <td>22.679500</td>\n",
       "      <td>30.443358</td>\n",
       "    </tr>\n",
       "    <tr>\n",
       "      <th>3201</th>\n",
       "      <td>2023-12-27</td>\n",
       "      <td>1687.949951</td>\n",
       "      <td>1664.964634</td>\n",
       "      <td>1641.798131</td>\n",
       "      <td>23.166503</td>\n",
       "      <td>28.987987</td>\n",
       "    </tr>\n",
       "    <tr>\n",
       "      <th>3202</th>\n",
       "      <td>2023-12-28</td>\n",
       "      <td>1734.449951</td>\n",
       "      <td>1675.654682</td>\n",
       "      <td>1648.661228</td>\n",
       "      <td>26.993454</td>\n",
       "      <td>28.589081</td>\n",
       "    </tr>\n",
       "    <tr>\n",
       "      <th>3203</th>\n",
       "      <td>2023-12-29</td>\n",
       "      <td>1729.400024</td>\n",
       "      <td>1683.923197</td>\n",
       "      <td>1654.641880</td>\n",
       "      <td>29.281317</td>\n",
       "      <td>28.727528</td>\n",
       "    </tr>\n",
       "  </tbody>\n",
       "</table>\n",
       "<p>3204 rows × 6 columns</p>\n",
       "</div>"
      ],
      "text/plain": [
       "            Date  M&M.NS_close         EMAn         EMAm       MACD  \\\n",
       "0     2011-01-03    354.620422          NaN          NaN        NaN   \n",
       "1     2011-01-04    351.783600          NaN          NaN        NaN   \n",
       "2     2011-01-05    347.190735          NaN          NaN        NaN   \n",
       "3     2011-01-06    347.280792          NaN          NaN        NaN   \n",
       "4     2011-01-07    333.344513          NaN          NaN        NaN   \n",
       "...          ...           ...          ...          ...        ...   \n",
       "3199  2023-12-22   1634.250000  1660.519209  1636.174464  24.344746   \n",
       "3200  2023-12-26   1662.250000  1660.785485  1638.105985  22.679500   \n",
       "3201  2023-12-27   1687.949951  1664.964634  1641.798131  23.166503   \n",
       "3202  2023-12-28   1734.449951  1675.654682  1648.661228  26.993454   \n",
       "3203  2023-12-29   1729.400024  1683.923197  1654.641880  29.281317   \n",
       "\n",
       "      Signal Line  \n",
       "0             NaN  \n",
       "1             NaN  \n",
       "2             NaN  \n",
       "3             NaN  \n",
       "4             NaN  \n",
       "...           ...  \n",
       "3199    32.384323  \n",
       "3200    30.443358  \n",
       "3201    28.987987  \n",
       "3202    28.589081  \n",
       "3203    28.727528  \n",
       "\n",
       "[3204 rows x 6 columns]"
      ]
     },
     "execution_count": 8,
     "metadata": {},
     "output_type": "execute_result"
    }
   ],
   "source": [
    "df['MACD'] = df['EMAn'] - df['EMAm']\n",
    "df['Signal Line'] = df['MACD'].ewm(span=t, adjust=False).mean()\n",
    "df"
   ]
  },
  {
   "cell_type": "code",
   "execution_count": 9,
   "metadata": {},
   "outputs": [],
   "source": [
    "trade_sig=np.zeros([len(df),1],dtype=float)\n",
    "\n",
    "for i in range(m+1,len(df)):\n",
    "    if df.loc[i,'MACD'] > df.loc[i,'Signal Line'] and df.loc[i-1,'MACD'] < df.loc[i-1,'Signal Line']:\n",
    "        trade_sig[i] = 1\n",
    "    if df.loc[i,'MACD'] < df.loc[i,'Signal Line'] and df.loc[i-1,'MACD'] > df.loc[i-1,'Signal Line']:\n",
    "        trade_sig[i] = -1"
   ]
  },
  {
   "cell_type": "code",
   "execution_count": 10,
   "metadata": {},
   "outputs": [],
   "source": [
    "trade_sig=trade_sig.reshape(len(trade_sig),1)"
   ]
  },
  {
   "cell_type": "code",
   "execution_count": 11,
   "metadata": {},
   "outputs": [
    {
     "data": {
      "text/plain": [
       "(3204, 1)"
      ]
     },
     "execution_count": 11,
     "metadata": {},
     "output_type": "execute_result"
    }
   ],
   "source": [
    "trade_sig.shape"
   ]
  },
  {
   "cell_type": "code",
   "execution_count": 12,
   "metadata": {},
   "outputs": [],
   "source": [
    "df_numpy=df.to_numpy()"
   ]
  },
  {
   "cell_type": "code",
   "execution_count": 13,
   "metadata": {},
   "outputs": [],
   "source": [
    "final=np.column_stack((df_numpy,trade_sig))"
   ]
  },
  {
   "cell_type": "code",
   "execution_count": 14,
   "metadata": {},
   "outputs": [],
   "source": [
    "final_df=pd.DataFrame(final,columns=['Date','Close','EMAn','EMAm','MACD','Signal Line','Trade Signal'])"
   ]
  },
  {
   "cell_type": "code",
   "execution_count": 15,
   "metadata": {},
   "outputs": [],
   "source": [
    "final_df.drop([\"EMAn\",\"EMAm\",\"MACD\",\"Signal Line\"],axis=1,inplace=True)"
   ]
  },
  {
   "cell_type": "code",
   "execution_count": 18,
   "metadata": {},
   "outputs": [],
   "source": [
    "final_df['Close'] = final_df['Close'].astype(float) \n",
    "final_df['Trade Signal'] = final_df['Trade Signal'].astype(float)"
   ]
  },
  {
   "cell_type": "code",
   "execution_count": 19,
   "metadata": {},
   "outputs": [
    {
     "data": {
      "text/plain": [
       "Date             object\n",
       "Close           float64\n",
       "Trade Signal    float64\n",
       "dtype: object"
      ]
     },
     "execution_count": 19,
     "metadata": {},
     "output_type": "execute_result"
    }
   ],
   "source": [
    "final_df.dtypes"
   ]
  },
  {
   "cell_type": "code",
   "execution_count": 20,
   "metadata": {},
   "outputs": [],
   "source": [
    "final_df.to_csv('/Users/vedantgupta/Documents/summer project/data-analysis-with-technical-indicators-2/nifty_sensex_close_data/data/trading_signal_indi_mm.csv',index=False)"
   ]
  },
  {
   "cell_type": "code",
   "execution_count": null,
   "metadata": {},
   "outputs": [],
   "source": []
  }
 ],
 "metadata": {
  "kernelspec": {
   "display_name": "Python 3",
   "language": "python",
   "name": "python3"
  },
  "language_info": {
   "codemirror_mode": {
    "name": "ipython",
    "version": 3
   },
   "file_extension": ".py",
   "mimetype": "text/x-python",
   "name": "python",
   "nbconvert_exporter": "python",
   "pygments_lexer": "ipython3",
   "version": "3.11.7"
  }
 },
 "nbformat": 4,
 "nbformat_minor": 2
}
