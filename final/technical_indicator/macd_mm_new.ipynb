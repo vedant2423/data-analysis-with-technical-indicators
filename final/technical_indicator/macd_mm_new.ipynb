{
 "cells": [
  {
   "cell_type": "code",
   "execution_count": 7,
   "metadata": {},
   "outputs": [],
   "source": [
    "import pandas as pd\n",
    "import numpy as np\n",
    "import sys\n",
    "np.set_printoptions(threshold=sys.maxsize)"
   ]
  },
  {
   "cell_type": "code",
   "execution_count": 98,
   "metadata": {},
   "outputs": [
    {
     "data": {
      "text/html": [
       "<div>\n",
       "<style scoped>\n",
       "    .dataframe tbody tr th:only-of-type {\n",
       "        vertical-align: middle;\n",
       "    }\n",
       "\n",
       "    .dataframe tbody tr th {\n",
       "        vertical-align: top;\n",
       "    }\n",
       "\n",
       "    .dataframe thead th {\n",
       "        text-align: right;\n",
       "    }\n",
       "</style>\n",
       "<table border=\"1\" class=\"dataframe\">\n",
       "  <thead>\n",
       "    <tr style=\"text-align: right;\">\n",
       "      <th></th>\n",
       "      <th>Date</th>\n",
       "      <th>TITAN.NS(close)</th>\n",
       "    </tr>\n",
       "  </thead>\n",
       "  <tbody>\n",
       "    <tr>\n",
       "      <th>0</th>\n",
       "      <td>2011-01-03</td>\n",
       "      <td>172.213837</td>\n",
       "    </tr>\n",
       "    <tr>\n",
       "      <th>1</th>\n",
       "      <td>2011-01-04</td>\n",
       "      <td>170.863907</td>\n",
       "    </tr>\n",
       "    <tr>\n",
       "      <th>2</th>\n",
       "      <td>2011-01-05</td>\n",
       "      <td>170.083847</td>\n",
       "    </tr>\n",
       "    <tr>\n",
       "      <th>3</th>\n",
       "      <td>2011-01-06</td>\n",
       "      <td>167.194824</td>\n",
       "    </tr>\n",
       "    <tr>\n",
       "      <th>4</th>\n",
       "      <td>2011-01-07</td>\n",
       "      <td>159.387192</td>\n",
       "    </tr>\n",
       "    <tr>\n",
       "      <th>...</th>\n",
       "      <td>...</td>\n",
       "      <td>...</td>\n",
       "    </tr>\n",
       "    <tr>\n",
       "      <th>3199</th>\n",
       "      <td>2023-12-22</td>\n",
       "      <td>3627.350098</td>\n",
       "    </tr>\n",
       "    <tr>\n",
       "      <th>3200</th>\n",
       "      <td>2023-12-26</td>\n",
       "      <td>3656.699951</td>\n",
       "    </tr>\n",
       "    <tr>\n",
       "      <th>3201</th>\n",
       "      <td>2023-12-27</td>\n",
       "      <td>3689.250000</td>\n",
       "    </tr>\n",
       "    <tr>\n",
       "      <th>3202</th>\n",
       "      <td>2023-12-28</td>\n",
       "      <td>3715.100098</td>\n",
       "    </tr>\n",
       "    <tr>\n",
       "      <th>3203</th>\n",
       "      <td>2023-12-29</td>\n",
       "      <td>3675.449951</td>\n",
       "    </tr>\n",
       "  </tbody>\n",
       "</table>\n",
       "<p>3204 rows × 2 columns</p>\n",
       "</div>"
      ],
      "text/plain": [
       "            Date  TITAN.NS(close)\n",
       "0     2011-01-03       172.213837\n",
       "1     2011-01-04       170.863907\n",
       "2     2011-01-05       170.083847\n",
       "3     2011-01-06       167.194824\n",
       "4     2011-01-07       159.387192\n",
       "...          ...              ...\n",
       "3199  2023-12-22      3627.350098\n",
       "3200  2023-12-26      3656.699951\n",
       "3201  2023-12-27      3689.250000\n",
       "3202  2023-12-28      3715.100098\n",
       "3203  2023-12-29      3675.449951\n",
       "\n",
       "[3204 rows x 2 columns]"
      ]
     },
     "execution_count": 98,
     "metadata": {},
     "output_type": "execute_result"
    }
   ],
   "source": [
    "df=pd.read_csv('/Users/vedantgupta/Documents/summer project/data-analysis-with-technical-indicators-2/final/Data_imports/TITAN.NS(close).csv')\n",
    "df"
   ]
  },
  {
   "cell_type": "code",
   "execution_count": 99,
   "metadata": {},
   "outputs": [
    {
     "data": {
      "text/plain": [
       "Date                object\n",
       "TITAN.NS(close)    float64\n",
       "dtype: object"
      ]
     },
     "execution_count": 99,
     "metadata": {},
     "output_type": "execute_result"
    }
   ],
   "source": [
    "df.dtypes"
   ]
  },
  {
   "cell_type": "code",
   "execution_count": 100,
   "metadata": {},
   "outputs": [],
   "source": [
    "#parameters\n",
    "n = 12\n",
    "m = 26\n",
    "t = 9"
   ]
  },
  {
   "cell_type": "code",
   "execution_count": 101,
   "metadata": {},
   "outputs": [],
   "source": [
    "df.loc[:,'EMAn'] = df['TITAN.NS(close)'].ewm(span=n, adjust=False).mean()\n",
    "\n",
    "df.loc[:,'EMAm'] = df['TITAN.NS(close)'].ewm(span=m, adjust=False).mean()\n"
   ]
  },
  {
   "cell_type": "code",
   "execution_count": 102,
   "metadata": {},
   "outputs": [],
   "source": [
    "for i in range(n):\n",
    "    df.loc[i,'EMAn'] = None\n",
    "for i in range(m):\n",
    "    df.loc[i,'EMAm'] = None\n",
    "    "
   ]
  },
  {
   "cell_type": "code",
   "execution_count": 103,
   "metadata": {},
   "outputs": [
    {
     "data": {
      "text/html": [
       "<div>\n",
       "<style scoped>\n",
       "    .dataframe tbody tr th:only-of-type {\n",
       "        vertical-align: middle;\n",
       "    }\n",
       "\n",
       "    .dataframe tbody tr th {\n",
       "        vertical-align: top;\n",
       "    }\n",
       "\n",
       "    .dataframe thead th {\n",
       "        text-align: right;\n",
       "    }\n",
       "</style>\n",
       "<table border=\"1\" class=\"dataframe\">\n",
       "  <thead>\n",
       "    <tr style=\"text-align: right;\">\n",
       "      <th></th>\n",
       "      <th>Date</th>\n",
       "      <th>TITAN.NS(close)</th>\n",
       "      <th>EMAn</th>\n",
       "      <th>EMAm</th>\n",
       "      <th>MACD</th>\n",
       "      <th>Signal Line</th>\n",
       "    </tr>\n",
       "  </thead>\n",
       "  <tbody>\n",
       "    <tr>\n",
       "      <th>0</th>\n",
       "      <td>2011-01-03</td>\n",
       "      <td>172.213837</td>\n",
       "      <td>NaN</td>\n",
       "      <td>NaN</td>\n",
       "      <td>NaN</td>\n",
       "      <td>NaN</td>\n",
       "    </tr>\n",
       "    <tr>\n",
       "      <th>1</th>\n",
       "      <td>2011-01-04</td>\n",
       "      <td>170.863907</td>\n",
       "      <td>NaN</td>\n",
       "      <td>NaN</td>\n",
       "      <td>NaN</td>\n",
       "      <td>NaN</td>\n",
       "    </tr>\n",
       "    <tr>\n",
       "      <th>2</th>\n",
       "      <td>2011-01-05</td>\n",
       "      <td>170.083847</td>\n",
       "      <td>NaN</td>\n",
       "      <td>NaN</td>\n",
       "      <td>NaN</td>\n",
       "      <td>NaN</td>\n",
       "    </tr>\n",
       "    <tr>\n",
       "      <th>3</th>\n",
       "      <td>2011-01-06</td>\n",
       "      <td>167.194824</td>\n",
       "      <td>NaN</td>\n",
       "      <td>NaN</td>\n",
       "      <td>NaN</td>\n",
       "      <td>NaN</td>\n",
       "    </tr>\n",
       "    <tr>\n",
       "      <th>4</th>\n",
       "      <td>2011-01-07</td>\n",
       "      <td>159.387192</td>\n",
       "      <td>NaN</td>\n",
       "      <td>NaN</td>\n",
       "      <td>NaN</td>\n",
       "      <td>NaN</td>\n",
       "    </tr>\n",
       "    <tr>\n",
       "      <th>...</th>\n",
       "      <td>...</td>\n",
       "      <td>...</td>\n",
       "      <td>...</td>\n",
       "      <td>...</td>\n",
       "      <td>...</td>\n",
       "      <td>...</td>\n",
       "    </tr>\n",
       "    <tr>\n",
       "      <th>3199</th>\n",
       "      <td>2023-12-22</td>\n",
       "      <td>3627.350098</td>\n",
       "      <td>3579.676120</td>\n",
       "      <td>3513.063006</td>\n",
       "      <td>66.613115</td>\n",
       "      <td>73.847626</td>\n",
       "    </tr>\n",
       "    <tr>\n",
       "      <th>3200</th>\n",
       "      <td>2023-12-26</td>\n",
       "      <td>3656.699951</td>\n",
       "      <td>3591.525941</td>\n",
       "      <td>3523.702780</td>\n",
       "      <td>67.823161</td>\n",
       "      <td>72.642733</td>\n",
       "    </tr>\n",
       "    <tr>\n",
       "      <th>3201</th>\n",
       "      <td>2023-12-27</td>\n",
       "      <td>3689.250000</td>\n",
       "      <td>3606.560411</td>\n",
       "      <td>3535.965537</td>\n",
       "      <td>70.594875</td>\n",
       "      <td>72.233161</td>\n",
       "    </tr>\n",
       "    <tr>\n",
       "      <th>3202</th>\n",
       "      <td>2023-12-28</td>\n",
       "      <td>3715.100098</td>\n",
       "      <td>3623.258825</td>\n",
       "      <td>3549.234763</td>\n",
       "      <td>74.024061</td>\n",
       "      <td>72.591341</td>\n",
       "    </tr>\n",
       "    <tr>\n",
       "      <th>3203</th>\n",
       "      <td>2023-12-29</td>\n",
       "      <td>3675.449951</td>\n",
       "      <td>3631.288229</td>\n",
       "      <td>3558.584037</td>\n",
       "      <td>72.704192</td>\n",
       "      <td>72.613911</td>\n",
       "    </tr>\n",
       "  </tbody>\n",
       "</table>\n",
       "<p>3204 rows × 6 columns</p>\n",
       "</div>"
      ],
      "text/plain": [
       "            Date  TITAN.NS(close)         EMAn         EMAm       MACD  \\\n",
       "0     2011-01-03       172.213837          NaN          NaN        NaN   \n",
       "1     2011-01-04       170.863907          NaN          NaN        NaN   \n",
       "2     2011-01-05       170.083847          NaN          NaN        NaN   \n",
       "3     2011-01-06       167.194824          NaN          NaN        NaN   \n",
       "4     2011-01-07       159.387192          NaN          NaN        NaN   \n",
       "...          ...              ...          ...          ...        ...   \n",
       "3199  2023-12-22      3627.350098  3579.676120  3513.063006  66.613115   \n",
       "3200  2023-12-26      3656.699951  3591.525941  3523.702780  67.823161   \n",
       "3201  2023-12-27      3689.250000  3606.560411  3535.965537  70.594875   \n",
       "3202  2023-12-28      3715.100098  3623.258825  3549.234763  74.024061   \n",
       "3203  2023-12-29      3675.449951  3631.288229  3558.584037  72.704192   \n",
       "\n",
       "      Signal Line  \n",
       "0             NaN  \n",
       "1             NaN  \n",
       "2             NaN  \n",
       "3             NaN  \n",
       "4             NaN  \n",
       "...           ...  \n",
       "3199    73.847626  \n",
       "3200    72.642733  \n",
       "3201    72.233161  \n",
       "3202    72.591341  \n",
       "3203    72.613911  \n",
       "\n",
       "[3204 rows x 6 columns]"
      ]
     },
     "execution_count": 103,
     "metadata": {},
     "output_type": "execute_result"
    }
   ],
   "source": [
    "df['MACD'] = df['EMAn'] - df['EMAm']\n",
    "df['Signal Line'] = df['MACD'].ewm(span=t, adjust=False).mean()\n",
    "df"
   ]
  },
  {
   "cell_type": "code",
   "execution_count": 104,
   "metadata": {},
   "outputs": [],
   "source": [
    "trade_sig=np.zeros([len(df),1],dtype=float)\n",
    "\n",
    "for i in range(m+1,len(df)):\n",
    "    if df.loc[i,'MACD'] > df.loc[i,'Signal Line'] and df.loc[i-1,'MACD'] < df.loc[i-1,'Signal Line']:\n",
    "        trade_sig[i] = 1\n",
    "    if df.loc[i,'MACD'] < df.loc[i,'Signal Line'] and df.loc[i-1,'MACD'] > df.loc[i-1,'Signal Line']:\n",
    "        trade_sig[i] = -1"
   ]
  },
  {
   "cell_type": "code",
   "execution_count": 105,
   "metadata": {},
   "outputs": [],
   "source": [
    "trade_sig=trade_sig.reshape(len(trade_sig),1)"
   ]
  },
  {
   "cell_type": "code",
   "execution_count": 106,
   "metadata": {},
   "outputs": [
    {
     "data": {
      "text/plain": [
       "(3204, 1)"
      ]
     },
     "execution_count": 106,
     "metadata": {},
     "output_type": "execute_result"
    }
   ],
   "source": [
    "trade_sig.shape"
   ]
  },
  {
   "cell_type": "code",
   "execution_count": 107,
   "metadata": {},
   "outputs": [],
   "source": [
    "df_numpy=df.to_numpy()"
   ]
  },
  {
   "cell_type": "code",
   "execution_count": 108,
   "metadata": {},
   "outputs": [],
   "source": [
    "final=np.column_stack((df_numpy,trade_sig))"
   ]
  },
  {
   "cell_type": "code",
   "execution_count": 109,
   "metadata": {},
   "outputs": [],
   "source": [
    "final_df=pd.DataFrame(final,columns=['Date','Close','EMAn','EMAm','MACD','Signal Line','Trade Signal'])"
   ]
  },
  {
   "cell_type": "code",
   "execution_count": 110,
   "metadata": {},
   "outputs": [],
   "source": [
    "final_df.drop([\"EMAn\",\"EMAm\",\"MACD\",\"Signal Line\"],axis=1,inplace=True)"
   ]
  },
  {
   "cell_type": "code",
   "execution_count": 111,
   "metadata": {},
   "outputs": [],
   "source": [
    "final_df['Close'] = final_df['Close'].astype(float) \n",
    "final_df['Trade Signal'] = final_df['Trade Signal'].astype(float)"
   ]
  },
  {
   "cell_type": "code",
   "execution_count": 112,
   "metadata": {},
   "outputs": [
    {
     "data": {
      "text/plain": [
       "Date             object\n",
       "Close           float64\n",
       "Trade Signal    float64\n",
       "dtype: object"
      ]
     },
     "execution_count": 112,
     "metadata": {},
     "output_type": "execute_result"
    }
   ],
   "source": [
    "final_df.dtypes"
   ]
  },
  {
   "cell_type": "code",
   "execution_count": 113,
   "metadata": {},
   "outputs": [],
   "source": [
    "final_df.to_csv('/Users/vedantgupta/Documents/summer project/data-analysis-with-technical-indicators-2/final/trading_signals/titan_ti_ts.csv',index=False)"
   ]
  },
  {
   "cell_type": "code",
   "execution_count": null,
   "metadata": {},
   "outputs": [],
   "source": []
  }
 ],
 "metadata": {
  "kernelspec": {
   "display_name": "Python 3",
   "language": "python",
   "name": "python3"
  },
  "language_info": {
   "codemirror_mode": {
    "name": "ipython",
    "version": 3
   },
   "file_extension": ".py",
   "mimetype": "text/x-python",
   "name": "python",
   "nbconvert_exporter": "python",
   "pygments_lexer": "ipython3",
   "version": "3.11.7"
  }
 },
 "nbformat": 4,
 "nbformat_minor": 2
}
