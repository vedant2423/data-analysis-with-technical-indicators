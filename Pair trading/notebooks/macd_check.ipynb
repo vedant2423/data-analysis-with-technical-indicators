{
 "cells": [
  {
   "cell_type": "code",
   "execution_count": 106,
   "metadata": {},
   "outputs": [],
   "source": [
    "#parameters\n",
    "n = 6\n",
    "m = 19\n",
    "t = 9\n",
    "s1 = 'RELIANCE.NS'\n",
    "s2 = 'JSWSTEEL.NS'"
   ]
  },
  {
   "cell_type": "code",
   "execution_count": 107,
   "metadata": {},
   "outputs": [],
   "source": [
    "import numpy as np\n",
    "import pandas as pd"
   ]
  },
  {
   "cell_type": "code",
   "execution_count": 108,
   "metadata": {},
   "outputs": [],
   "source": [
    "#function to calculate macd\n",
    "def MACD(data, short_window, long_window, signal_window, column_name):\n",
    "   \n",
    "    data.loc[:,'EMAn'] = data[column_name].ewm(span=short_window, adjust=False).mean()\n",
    "    data.loc[:,'EMAm'] = data[column_name].ewm(span=long_window, adjust=False).mean()\n",
    "\n",
    "    for i in range(short_window):\n",
    "        data.loc[i,'EMAn'] = None\n",
    "    for i in range(long_window):\n",
    "        data.loc[i,'EMAm'] = None\n",
    "    \n",
    "    data['MACD'] = data['EMAn'] - data['EMAm']\n",
    "    data['Signal Line'] = data['MACD'].ewm(span=signal_window, adjust=False).mean()\n",
    "\n",
    "    trade_sig=np.zeros([len(data),1],dtype=float)\n",
    "\n",
    "    for i in range(long_window+1,len(data)):\n",
    "        if data.loc[i,'MACD'] > data.loc[i,'Signal Line'] and data.loc[i-1,'MACD'] < data.loc[i-1,'Signal Line']:\n",
    "            trade_sig[i] = 1\n",
    "        if data.loc[i,'MACD'] < data.loc[i,'Signal Line'] and data.loc[i-1,'MACD'] > data.loc[i-1,'Signal Line']:\n",
    "            trade_sig[i] = -1\n",
    "        \n",
    "    trade_sig=trade_sig.reshape(len(trade_sig),1)\n",
    "\n",
    "    data_numpy=data['Date'].to_numpy()\n",
    "    data_numpy=data_numpy.reshape(len(data_numpy),1)\n",
    "    data_numpy=np.column_stack((data_numpy,data[column_name].to_numpy()))\n",
    "    data_numpy=np.column_stack((data_numpy,data['EMAn'].to_numpy()))\n",
    "    data_numpy=np.column_stack((data_numpy,data['EMAm'].to_numpy()))\n",
    "    data_numpy=np.column_stack((data_numpy,data['MACD'].to_numpy()))\n",
    "    data_numpy=np.column_stack((data_numpy,data['Signal Line'].to_numpy()))\n",
    "\n",
    "    final=np.column_stack((data_numpy,trade_sig))\n",
    "    final_df=pd.DataFrame(final,columns=['Date','Close','EMAn','EMAm','MACD','Signal Line','Trade Signal'],index=data.index)\n",
    "\n",
    "    final_df.drop([\"EMAn\",\"EMAm\",\"MACD\",\"Signal Line\"],axis=1,inplace=True)\n",
    "    final_df['Date'] = pd.to_datetime(final_df['Date'])\n",
    "    final_df['Close'] = final_df['Close'].astype(float) \n",
    "    final_df['Trade Signal'] = final_df['Trade Signal'].astype(int)\n",
    "\n",
    "    return final_df"
   ]
  },
  {
   "cell_type": "code",
   "execution_count": 109,
   "metadata": {},
   "outputs": [],
   "source": [
    "data = pd.read_csv('/Users/hitengoel/Machine Learning/data analysis(technical indiactors)/data-analysis-with-technical-indicators/Pair trading/Returns data/sensex_close.csv')\n"
   ]
  },
  {
   "cell_type": "code",
   "execution_count": 110,
   "metadata": {},
   "outputs": [],
   "source": [
    "def get_master_macd(x,y,s1,s2) :\n",
    "    master_macd = pd.DataFrame()\n",
    "    master_macd['Date'] = x['Date']\n",
    "    master_macd[s1] = x['Trade Signal']\n",
    "    master_macd[s2] = y['Trade Signal']\n",
    "    return master_macd\n"
   ]
  },
  {
   "cell_type": "code",
   "execution_count": 111,
   "metadata": {},
   "outputs": [],
   "source": [
    "def get_profit(orders):\n",
    "    profit = 0\n",
    "    for i in range(len(orders)):\n",
    "        if(orders.iloc[i]['Order'] == 'Buy'):\n",
    "            profit -= orders.iloc[i]['Price']\n",
    "        else:\n",
    "            profit += orders.iloc[i]['Price']\n",
    "    return profit"
   ]
  },
  {
   "cell_type": "code",
   "execution_count": 112,
   "metadata": {},
   "outputs": [],
   "source": [
    "prices = pd.read_csv('/Users/hitengoel/Machine Learning/data analysis(technical indiactors)/data-analysis-with-technical-indicators/Pair trading/Returns data/sensex_close.csv')\n",
    "\n",
    "for i in range(1,len(prices.columns)):\n",
    "    prices.columns.values[i] = prices.columns.values[i][:-7]"
   ]
  },
  {
   "cell_type": "code",
   "execution_count": 113,
   "metadata": {},
   "outputs": [],
   "source": [
    "x = MACD(data, n, m, t, s1+'(close)')\n",
    "y = MACD(data, n, m, t, s2+'(close)')\n",
    "master_macd = get_master_macd(x,y,s1,s2)\n",
    "groups = [[s1,s2]]\n",
    "\n",
    "prices = pd.read_csv('/Users/hitengoel/Machine Learning/data analysis(technical indiactors)/data-analysis-with-technical-indicators/Pair trading/Returns data/sensex_close.csv')\n",
    "\n",
    "for i in range(1,len(prices.columns)):\n",
    "    prices.columns.values[i] = prices.columns.values[i][:-7]\n"
   ]
  },
  {
   "cell_type": "code",
   "execution_count": 114,
   "metadata": {},
   "outputs": [
    {
     "name": "stderr",
     "output_type": "stream",
     "text": [
      "/var/folders/94/qzww3__j7w95pdc_5q59f29c0000gn/T/ipykernel_46560/3019151391.py:42: FutureWarning: The behavior of DataFrame concatenation with empty or all-NA entries is deprecated. In a future version, this will no longer exclude empty or all-NA columns when determining the result dtypes. To retain the old behavior, exclude the relevant entries before the concat operation.\n",
      "  orders = pd.concat([orders,pd.DataFrame({'Date': [master_macd.iloc[i]['Date']], 'Stock': [buy_stocks[l]], 'Order': ['Buy'], 'Price': [prices.iloc[i][buy_stocks[l]]]})], ignore_index=True)\n"
     ]
    }
   ],
   "source": [
    "intrade = []\n",
    "orders = pd.DataFrame(columns=['Date', 'Stock', 'Order', 'Price'])\n",
    "\n",
    "for k in groups:\n",
    "    for i in range(len(master_macd)):\n",
    "        row = master_macd.iloc[i]\n",
    "        buys = 0\n",
    "        sells = 0\n",
    "        for j in range(1,len(row)):\n",
    "            if((master_macd.columns[j] in k) and master_macd.iloc[i,j] == 1):\n",
    "                buys += 1\n",
    "            elif((master_macd.columns[j] in k) and master_macd.iloc[i,j] == -1):\n",
    "                sells += 1\n",
    "        if(buys < 1 or sells < 1):\n",
    "            continue\n",
    "        \n",
    "        count = min(buys,sells)\n",
    "        buy_stocks = []\n",
    "        sell_stocks = []\n",
    "\n",
    "        for j in range(1,len(row)):\n",
    "            if((master_macd.columns[j] in k) and master_macd.iloc[i,j] == 1 and len(buy_stocks) < count):\n",
    "                buy_stocks.append(master_macd.columns[j])\n",
    "            elif((master_macd.columns[j] in k) and master_macd.iloc[i,j] == -1 and len(sell_stocks) < count):\n",
    "                sell_stocks.append(master_macd.columns[j])\n",
    "        \n",
    "\n",
    "        for l in range(len(buy_stocks)):\n",
    "            for m in range(len(sell_stocks)):\n",
    "                if(buy_stocks[l] == '' or sell_stocks[m] == ''):\n",
    "                    continue\n",
    "                if([buy_stocks[l], sell_stocks[m]] in intrade):\n",
    "                    continue\n",
    "                \n",
    "                #for q in intrade:\n",
    "                 #   if(buy_stocks[l] in q or sell_stocks[m] in q):\n",
    "                  #      orders = pd.concat([orders,pd.DataFrame({'Date': [master_macd.iloc[i]['Date']], 'Stock': [q[0]], 'Order': ['Sell'], 'Price': [prices.iloc[i][q[0]]]})], ignore_index=True)\n",
    "                   #     orders = pd.concat([orders,pd.DataFrame({'Date': [master_macd.iloc[i]['Date']], 'Stock': [q[1]], 'Order': ['Buy'], 'Price': [prices.iloc[i][q[1]]]})], ignore_index=True)\n",
    "                    #    intrade.remove(q)\n",
    "                \n",
    "                intrade.append([buy_stocks[l], sell_stocks[m]])\n",
    "                orders = pd.concat([orders,pd.DataFrame({'Date': [master_macd.iloc[i]['Date']], 'Stock': [buy_stocks[l]], 'Order': ['Buy'], 'Price': [prices.iloc[i][buy_stocks[l]]]})], ignore_index=True)\n",
    "                orders = pd.concat([orders,pd.DataFrame({'Date': [master_macd.iloc[i]['Date']], 'Stock': [sell_stocks[m]], 'Order': ['Sell'], 'Price': [prices.iloc[i][sell_stocks[m]]]})], ignore_index=True)\n",
    "\n",
    "                buy_stocks[l] = ''\n",
    "                sell_stocks[m] = ''\n",
    "\n",
    "\n",
    "    while(len(intrade) > 0):\n",
    "        q = intrade.pop()\n",
    "        orders = pd.concat([orders,pd.DataFrame({'Date': [master_macd.iloc[-1]['Date']], 'Stock': [q[0]], 'Order': ['Sell'], 'Price': [prices.iloc[-1][q[0]]]})], ignore_index=True)\n",
    "        orders = pd.concat([orders,pd.DataFrame({'Date': [master_macd.iloc[-1]['Date']], 'Stock': [q[1]], 'Order': ['Buy'], 'Price': [prices.iloc[-1][q[1]]]})], ignore_index=True)\n"
   ]
  },
  {
   "cell_type": "code",
   "execution_count": 115,
   "metadata": {},
   "outputs": [
    {
     "data": {
      "text/plain": [
       "122.59892272949219"
      ]
     },
     "execution_count": 115,
     "metadata": {},
     "output_type": "execute_result"
    }
   ],
   "source": [
    "profit = get_profit(orders)\n",
    "profit"
   ]
  }
 ],
 "metadata": {
  "kernelspec": {
   "display_name": "base",
   "language": "python",
   "name": "python3"
  },
  "language_info": {
   "codemirror_mode": {
    "name": "ipython",
    "version": 3
   },
   "file_extension": ".py",
   "mimetype": "text/x-python",
   "name": "python",
   "nbconvert_exporter": "python",
   "pygments_lexer": "ipython3",
   "version": "3.11.7"
  }
 },
 "nbformat": 4,
 "nbformat_minor": 2
}
