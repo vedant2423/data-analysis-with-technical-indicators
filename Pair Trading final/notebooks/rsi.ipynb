{
 "cells": [
  {
   "cell_type": "code",
   "execution_count": 1,
   "metadata": {},
   "outputs": [],
   "source": [
    "import numpy as np\n",
    "import pandas as pd"
   ]
  },
  {
   "cell_type": "code",
   "execution_count": 2,
   "metadata": {},
   "outputs": [],
   "source": [
    "data=pd.read_csv('/Users/vedantgupta/Documents/summer project/data-analysis-with-technical-indicators-2/Pair Trading final/data/Nifty_50_close.csv')"
   ]
  },
  {
   "cell_type": "code",
   "execution_count": 5,
   "metadata": {},
   "outputs": [],
   "source": [
    "#extract stock names\n",
    "stock_names = data.columns[1:]"
   ]
  },
  {
   "cell_type": "code",
   "execution_count": 11,
   "metadata": {},
   "outputs": [],
   "source": [
    "# Calculate RSI\n",
    "period=14\n",
    "def calculate_rsi(prices, period):\n",
    "    delta = prices.diff()\n",
    "    gain = delta.where(delta > 0, 0)\n",
    "    loss = -delta.where(delta < 0, 0)\n",
    "\n",
    "    avg_gain = gain.ewm(com=period - 1, min_periods=period).mean()\n",
    "    avg_loss = loss.ewm(com=period - 1, min_periods=period).mean()\n",
    "\n",
    "    rs = avg_gain / avg_loss\n",
    "    rsi = 100 - (100 / (1 + rs))\n",
    "    return rsi"
   ]
  },
  {
   "cell_type": "code",
   "execution_count": 12,
   "metadata": {},
   "outputs": [],
   "source": [
    "# Generate Trading Signals\n",
    "def generate_signals(rsi_values):\n",
    "    signals = np.zeros(rsi_values.shape)\n",
    "    for rsi in rsi_values:\n",
    "        if rsi < 30:\n",
    "            signals[rsi_values == rsi] = 1\n",
    "        elif rsi > 70:\n",
    "            signals[rsi_values == rsi] = -1\n",
    "    return signals"
   ]
  },
  {
   "cell_type": "code",
   "execution_count": 16,
   "metadata": {},
   "outputs": [],
   "source": [
    "#export rsi values csv\n",
    "\n",
    "rsi_values = pd.DataFrame()\n",
    "rsi_values['Date'] = data['Date']\n",
    "for stock in stock_names:\n",
    "    rsi_values[stock] = calculate_rsi(data[stock], period)\n",
    "    \n",
    "\n",
    "rsi_values[period:].to_csv('/Users/vedantgupta/Documents/summer project/data-analysis-with-technical-indicators-2/Pair Trading final/data/master_rsi_values.csv', index=False)"
   ]
  },
  {
   "cell_type": "code",
   "execution_count": null,
   "metadata": {},
   "outputs": [],
   "source": []
  }
 ],
 "metadata": {
  "kernelspec": {
   "display_name": "Python 3",
   "language": "python",
   "name": "python3"
  },
  "language_info": {
   "codemirror_mode": {
    "name": "ipython",
    "version": 3
   },
   "file_extension": ".py",
   "mimetype": "text/x-python",
   "name": "python",
   "nbconvert_exporter": "python",
   "pygments_lexer": "ipython3",
   "version": "3.11.7"
  }
 },
 "nbformat": 4,
 "nbformat_minor": 2
}
