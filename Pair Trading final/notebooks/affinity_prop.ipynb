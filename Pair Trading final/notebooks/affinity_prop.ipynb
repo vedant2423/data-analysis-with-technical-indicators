{
 "cells": [
  {
   "cell_type": "code",
   "execution_count": 2,
   "metadata": {},
   "outputs": [],
   "source": [
    "import numpy as np\n",
    "import pandas as pd"
   ]
  },
  {
   "cell_type": "code",
   "execution_count": 3,
   "metadata": {},
   "outputs": [],
   "source": [
    "data=pd.read_csv('/Users/vedantgupta/Documents/summer project/data-analysis-with-technical-indicators-2/Pair Trading final/data/Nifty_50_weekly_return.csv')\n",
    "#data"
   ]
  },
  {
   "cell_type": "code",
   "execution_count": 4,
   "metadata": {},
   "outputs": [],
   "source": [
    "curr = data.columns[0]\n",
    "data.rename(columns={curr: 'Stocks'}, inplace=True)"
   ]
  },
  {
   "cell_type": "code",
   "execution_count": 5,
   "metadata": {},
   "outputs": [],
   "source": [
    "data=data.set_index('Stocks')\n",
    "#data"
   ]
  },
  {
   "cell_type": "code",
   "execution_count": 6,
   "metadata": {},
   "outputs": [],
   "source": [
    "from sklearn.cluster import AffinityPropagation\n",
    "ap = AffinityPropagation()\n",
    "ap.fit(data)\n",
    "labels = ap.predict(data)"
   ]
  },
  {
   "cell_type": "code",
   "execution_count": 7,
   "metadata": {},
   "outputs": [],
   "source": [
    "groups = []\n",
    "for i in range(labels.max()+1):\n",
    "    arr = []\n",
    "    for j in range(len(labels)):\n",
    "        if labels[j] == i:\n",
    "            arr.append(data.index[j])\n",
    "    groups.append(arr)"
   ]
  },
  {
   "cell_type": "code",
   "execution_count": 8,
   "metadata": {},
   "outputs": [
    {
     "name": "stdout",
     "output_type": "stream",
     "text": [
      "Affinity Propagation Clustering 0.22809694129320887\n"
     ]
    }
   ],
   "source": [
    "import sklearn.metrics as metrics\n",
    "print(\"Affinity Propagation Clustering\", metrics.silhouette_score(data, ap.labels_, metric='euclidean'))"
   ]
  },
  {
   "cell_type": "code",
   "execution_count": 9,
   "metadata": {},
   "outputs": [
    {
     "name": "stdout",
     "output_type": "stream",
     "text": [
      "Group 1 : ['BAJAJFINSV.NS']\n",
      "Group 2 : ['BAJFINANCE.NS', 'BHARTIARTL.NS', 'CIPLA.NS', 'DRREDDY.NS', 'INDUSINDBK.NS', 'KOTAKBANK.NS', 'M&M.NS', 'RELIANCE.NS', 'SHRIRAMFIN.NS', 'WIPRO.NS']\n",
      "Group 3 : ['APOLLOHOSP.NS', 'BAJAJ-AUTO.NS', 'BRITANNIA.NS', 'EICHERMOT.NS', 'HEROMOTOCO.NS', 'HINDUNILVR.NS', 'ITC.NS', 'NESTLEIND.NS', 'ULTRACEMCO.NS']\n",
      "Group 4 : ['AXISBANK.NS', 'COALINDIA.NS', 'ICICIBANK.NS', 'TATACONSUM.NS', 'TATAMOTORS.NS', 'TECHM.NS']\n",
      "Group 5 : ['HINDALCO.NS', 'INFY.NS', 'JSWSTEEL.NS', 'LT.NS', 'MARUTI.NS', 'ONGC.NS', 'SBIN.NS', 'TATASTEEL.NS']\n",
      "Group 6 : ['ADANIPORTS.NS', 'ASIANPAINT.NS', 'BPCL.NS', 'DIVISLAB.NS', 'GRASIM.NS', 'HCLTECH.NS', 'HDFCBANK.NS', 'NTPC.NS', 'POWERGRID.NS', 'SUNPHARMA.NS', 'TCS.NS', 'TITAN.NS']\n"
     ]
    }
   ],
   "source": [
    "for i in range(len(groups)):\n",
    "    print(\"Group\", i+1, \":\", groups[i])"
   ]
  },
  {
   "cell_type": "code",
   "execution_count": 10,
   "metadata": {},
   "outputs": [
    {
     "data": {
      "text/plain": [
       "[['BAJAJFINSV.NS'],\n",
       " ['BAJFINANCE.NS',\n",
       "  'BHARTIARTL.NS',\n",
       "  'CIPLA.NS',\n",
       "  'DRREDDY.NS',\n",
       "  'INDUSINDBK.NS',\n",
       "  'KOTAKBANK.NS',\n",
       "  'M&M.NS',\n",
       "  'RELIANCE.NS',\n",
       "  'SHRIRAMFIN.NS',\n",
       "  'WIPRO.NS'],\n",
       " ['APOLLOHOSP.NS',\n",
       "  'BAJAJ-AUTO.NS',\n",
       "  'BRITANNIA.NS',\n",
       "  'EICHERMOT.NS',\n",
       "  'HEROMOTOCO.NS',\n",
       "  'HINDUNILVR.NS',\n",
       "  'ITC.NS',\n",
       "  'NESTLEIND.NS',\n",
       "  'ULTRACEMCO.NS'],\n",
       " ['AXISBANK.NS',\n",
       "  'COALINDIA.NS',\n",
       "  'ICICIBANK.NS',\n",
       "  'TATACONSUM.NS',\n",
       "  'TATAMOTORS.NS',\n",
       "  'TECHM.NS'],\n",
       " ['HINDALCO.NS',\n",
       "  'INFY.NS',\n",
       "  'JSWSTEEL.NS',\n",
       "  'LT.NS',\n",
       "  'MARUTI.NS',\n",
       "  'ONGC.NS',\n",
       "  'SBIN.NS',\n",
       "  'TATASTEEL.NS'],\n",
       " ['ADANIPORTS.NS',\n",
       "  'ASIANPAINT.NS',\n",
       "  'BPCL.NS',\n",
       "  'DIVISLAB.NS',\n",
       "  'GRASIM.NS',\n",
       "  'HCLTECH.NS',\n",
       "  'HDFCBANK.NS',\n",
       "  'NTPC.NS',\n",
       "  'POWERGRID.NS',\n",
       "  'SUNPHARMA.NS',\n",
       "  'TCS.NS',\n",
       "  'TITAN.NS']]"
      ]
     },
     "execution_count": 10,
     "metadata": {},
     "output_type": "execute_result"
    }
   ],
   "source": [
    "groups"
   ]
  },
  {
   "cell_type": "code",
   "execution_count": null,
   "metadata": {},
   "outputs": [],
   "source": []
  }
 ],
 "metadata": {
  "kernelspec": {
   "display_name": "Python 3",
   "language": "python",
   "name": "python3"
  },
  "language_info": {
   "codemirror_mode": {
    "name": "ipython",
    "version": 3
   },
   "file_extension": ".py",
   "mimetype": "text/x-python",
   "name": "python",
   "nbconvert_exporter": "python",
   "pygments_lexer": "ipython3",
   "version": "3.11.7"
  }
 },
 "nbformat": 4,
 "nbformat_minor": 2
}
