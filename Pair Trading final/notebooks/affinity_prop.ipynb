{
 "cells": [
  {
   "cell_type": "code",
   "execution_count": 1,
   "metadata": {},
   "outputs": [],
   "source": [
    "import numpy as np\n",
    "import pandas as pd"
   ]
  },
  {
   "cell_type": "code",
   "execution_count": 2,
   "metadata": {},
   "outputs": [],
   "source": [
    "data=pd.read_csv('/Users/vedantgupta/Documents/summer project/data-analysis-with-technical-indicators-2/Pair Trading final/data/Nifty_50_weekly_return.csv')\n",
    "#data"
   ]
  },
  {
   "cell_type": "code",
   "execution_count": 3,
   "metadata": {},
   "outputs": [],
   "source": [
    "curr = data.columns[0]\n",
    "data.rename(columns={curr: 'Stocks'}, inplace=True)"
   ]
  },
  {
   "cell_type": "code",
   "execution_count": 4,
   "metadata": {},
   "outputs": [],
   "source": [
    "data=data.set_index('Stocks')\n",
    "#data"
   ]
  },
  {
   "cell_type": "code",
   "execution_count": 5,
   "metadata": {},
   "outputs": [],
   "source": [
    "from sklearn.cluster import AffinityPropagation\n",
    "ap = AffinityPropagation()\n",
    "ap.fit(data)\n",
    "labels = ap.predict(data)"
   ]
  },
  {
   "cell_type": "code",
   "execution_count": 6,
   "metadata": {},
   "outputs": [],
   "source": [
    "groups = []\n",
    "for i in range(labels.max()+1):\n",
    "    arr = []\n",
    "    for j in range(len(labels)):\n",
    "        if labels[j] == i:\n",
    "            arr.append(data.index[j])\n",
    "    groups.append(arr)"
   ]
  },
  {
   "cell_type": "code",
   "execution_count": 7,
   "metadata": {},
   "outputs": [
    {
     "name": "stdout",
     "output_type": "stream",
     "text": [
      "Affinity Propagation Clustering 0.24469338423682527\n"
     ]
    }
   ],
   "source": [
    "import sklearn.metrics as metrics\n",
    "print(\"Affinity Propagation Clustering\", metrics.silhouette_score(data, ap.labels_, metric='euclidean'))"
   ]
  },
  {
   "cell_type": "code",
   "execution_count": 8,
   "metadata": {},
   "outputs": [
    {
     "name": "stdout",
     "output_type": "stream",
     "text": [
      "Group 1 : ['AXISBANK.NS', 'ICICIBANK.NS', 'LT.NS', 'SHRIRAMFIN.NS', 'SBIN.NS', 'TATAMOTORS.NS', 'TATASTEEL.NS']\n",
      "Group 2 : ['ADANIPORTS.NS', 'BAJAJ-AUTO.NS', 'BAJFINANCE.NS', 'BPCL.NS', 'DRREDDY.NS', 'GRASIM.NS', 'HCLTECH.NS', 'HDFCBANK.NS', 'HEROMOTOCO.NS', 'INDUSINDBK.NS', 'POWERGRID.NS', 'SUNPHARMA.NS', 'TCS.NS', 'ULTRACEMCO.NS']\n",
      "Group 3 : ['APOLLOHOSP.NS', 'EICHERMOT.NS', 'HINDUNILVR.NS']\n",
      "Group 4 : ['HINDALCO.NS', 'JSWSTEEL.NS']\n",
      "Group 5 : ['ASIANPAINT.NS', 'BAJAJFINSV.NS', 'BHARTIARTL.NS', 'BRITANNIA.NS', 'COALINDIA.NS', 'DIVISLAB.NS', 'ITC.NS', 'KOTAKBANK.NS', 'NESTLEIND.NS', 'TITAN.NS']\n",
      "Group 6 : ['CIPLA.NS', 'INFY.NS', 'M&M.NS', 'MARUTI.NS', 'NTPC.NS', 'ONGC.NS', 'RELIANCE.NS', 'TATACONSUM.NS', 'TECHM.NS', 'WIPRO.NS']\n"
     ]
    }
   ],
   "source": [
    "for i in range(len(groups)):\n",
    "    print(\"Group\", i+1, \":\", groups[i])"
   ]
  },
  {
   "cell_type": "code",
   "execution_count": 9,
   "metadata": {},
   "outputs": [
    {
     "data": {
      "text/plain": [
       "[['AXISBANK.NS',\n",
       "  'ICICIBANK.NS',\n",
       "  'LT.NS',\n",
       "  'SHRIRAMFIN.NS',\n",
       "  'SBIN.NS',\n",
       "  'TATAMOTORS.NS',\n",
       "  'TATASTEEL.NS'],\n",
       " ['ADANIPORTS.NS',\n",
       "  'BAJAJ-AUTO.NS',\n",
       "  'BAJFINANCE.NS',\n",
       "  'BPCL.NS',\n",
       "  'DRREDDY.NS',\n",
       "  'GRASIM.NS',\n",
       "  'HCLTECH.NS',\n",
       "  'HDFCBANK.NS',\n",
       "  'HEROMOTOCO.NS',\n",
       "  'INDUSINDBK.NS',\n",
       "  'POWERGRID.NS',\n",
       "  'SUNPHARMA.NS',\n",
       "  'TCS.NS',\n",
       "  'ULTRACEMCO.NS'],\n",
       " ['APOLLOHOSP.NS', 'EICHERMOT.NS', 'HINDUNILVR.NS'],\n",
       " ['HINDALCO.NS', 'JSWSTEEL.NS'],\n",
       " ['ASIANPAINT.NS',\n",
       "  'BAJAJFINSV.NS',\n",
       "  'BHARTIARTL.NS',\n",
       "  'BRITANNIA.NS',\n",
       "  'COALINDIA.NS',\n",
       "  'DIVISLAB.NS',\n",
       "  'ITC.NS',\n",
       "  'KOTAKBANK.NS',\n",
       "  'NESTLEIND.NS',\n",
       "  'TITAN.NS'],\n",
       " ['CIPLA.NS',\n",
       "  'INFY.NS',\n",
       "  'M&M.NS',\n",
       "  'MARUTI.NS',\n",
       "  'NTPC.NS',\n",
       "  'ONGC.NS',\n",
       "  'RELIANCE.NS',\n",
       "  'TATACONSUM.NS',\n",
       "  'TECHM.NS',\n",
       "  'WIPRO.NS']]"
      ]
     },
     "execution_count": 9,
     "metadata": {},
     "output_type": "execute_result"
    }
   ],
   "source": [
    "groups"
   ]
  },
  {
   "cell_type": "code",
   "execution_count": null,
   "metadata": {},
   "outputs": [],
   "source": []
  }
 ],
 "metadata": {
  "kernelspec": {
   "display_name": "Python 3",
   "language": "python",
   "name": "python3"
  },
  "language_info": {
   "codemirror_mode": {
    "name": "ipython",
    "version": 3
   },
   "file_extension": ".py",
   "mimetype": "text/x-python",
   "name": "python",
   "nbconvert_exporter": "python",
   "pygments_lexer": "ipython3",
   "version": "3.11.7"
  }
 },
 "nbformat": 4,
 "nbformat_minor": 2
}
